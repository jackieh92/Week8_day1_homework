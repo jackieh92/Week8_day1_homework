{
 "cells": [
  {
   "cell_type": "markdown",
   "metadata": {},
   "source": [
    "# Exercises"
   ]
  },
  {
   "cell_type": "markdown",
   "metadata": {},
   "source": [
    "### #1 - Calculate the BMI (body mass index) on the two lists below using NDArrays..."
   ]
  },
  {
   "cell_type": "code",
   "execution_count": 4,
   "metadata": {},
   "outputs": [
    {
     "data": {
      "text/plain": [
       "[16.866204578869986,\n",
       " 17.877551020408163,\n",
       " 18.825629835350128,\n",
       " 19.714506172839506,\n",
       " 20.54794520547945,\n",
       " 21.329437545653764,\n",
       " 22.06222222222222]"
      ]
     },
     "execution_count": 4,
     "metadata": {},
     "output_type": "execute_result"
    }
   ],
   "source": [
    "import numpy as np\n",
    "# formula = weight / (height**2) * 730\n",
    "def bmi(height,weight):\n",
    "    bmi = []\n",
    "    for value in range(len(height)) and range(len(weight)):\n",
    "        bmi.append(weight[value] / (height[value]**2) * 730)\n",
    "    return bmi\n",
    "\n",
    "height = [69, 70, 71, 72, 73, 74, 75]\n",
    "weight = [110, 120, 130, 140, 150, 160, 170]\n",
    "bmi(height,weight)"
   ]
  },
  {
   "cell_type": "markdown",
   "metadata": {},
   "source": [
    "### #2 - Create a function that will take in two parameters and will create a random matrix based off of those parameters. Extra: Have additional parameters taken in that allow the user to choose the shape and data type of the matrix."
   ]
  },
  {
   "cell_type": "code",
   "execution_count": 18,
   "metadata": {},
   "outputs": [
    {
     "data": {
      "text/plain": [
       "array([[14, 13, 12,  9, 31],\n",
       "       [17, 49, 49, 22,  6],\n",
       "       [19,  9, 37, 24, 29],\n",
       "       [16, 34, 14, 33, 45],\n",
       "       [25, 38,  7, 47, 19],\n",
       "       [21, 49, 24, 34, 28],\n",
       "       [13, 25, 20, 17, 42],\n",
       "       [35, 13, 35, 25, 39],\n",
       "       [25, 17,  6, 35, 49],\n",
       "       [34, 40, 36, 42, 16]])"
      ]
     },
     "execution_count": 18,
     "metadata": {},
     "output_type": "execute_result"
    }
   ],
   "source": [
    "# Example makeMatrix(param1,param2) -- Extra params can be added here as well\n",
    "\n",
    "def makeMatrix(low,high,shape,data_type):\n",
    "    return np.random.uniform(low,high,shape).astype(data_type)\n",
    "makeMatrix(5, 50, (10,5),data_type=int)\n"
   ]
  },
  {
   "cell_type": "markdown",
   "metadata": {},
   "source": [
    "### #3 - Extra: Open and load the data in the two text files that have the Boston Red Sox hitting data for the past seasons. Compare the difference in the two years by putting the data into an NDArray and running a differencial operation on it. The column to look for will be SLG.\n",
    "\n",
    "Your output should display which year (either 2017 or 2018) was a better year based on SLG"
   ]
  },
  {
   "cell_type": "code",
   "execution_count": 31,
   "metadata": {},
   "outputs": [
    {
     "data": {
      "text/plain": [
       "2017"
      ]
     },
     "execution_count": 31,
     "metadata": {},
     "output_type": "execute_result"
    }
   ],
   "source": [
    "FIELDS = ['Rk', 'Pos', 'Name', 'Age', 'G', 'PA', 'AB', 'R', 'H', '2B', '3B', 'HR', 'RBI', 'SB', 'CS', \n",
    "          'BB', 'SO', 'BA', 'OBP', 'SLG', 'OPS', 'OPS+', 'TB', 'GDP', 'HBP', 'SH', 'SF', 'IBB']\n",
    "\n",
    "DATATYPES = [('rk', 'i'), ('pos', '|S25'), ('name', '|S25'), ('age', 'i'), ('g', 'i'), ('pa', 'i'), ('ab', 'i'),\n",
    "                ('r', 'i'), ('h', 'i'), ('2b', 'i'), ('3b', 'i'), ('hr', 'i'), ('rbi', 'i'), ('sb', 'i'), ('cs', 'i'),\n",
    "                ('bb', 'i'), ('so', 'i'), ('ba', 'f'), ('obp', 'f'), ('slg', 'f'), ('ops', 'f'), ('opsp', 'i'),\n",
    "                ('tb', 'i'), ('gdp', 'i'), ('hbp', 'i'), ('sh', 'i'), ('sf', 'i'), ('ibb', 'i')]\n",
    "\n",
    "#Use this function to actually open the data inside of a NDArray\n",
    "\n",
    "def load_data(filename, d=','):\n",
    "    data = np.genfromtxt(filename,delimiter = d, skip_header = 1, \\\n",
    "                        usecols = np.arange(0,24), invalid_raise = False, \\\n",
    "                        names = FIELDS, dtype = DATATYPES)\n",
    "    return data\n",
    "\n",
    "bs2017 = load_data('./redsox_2017_hitting.txt')\n",
    "bs2018 = load_data('./redsox_2018_hitting.txt')\n",
    "slg_2017 = bs2017['SLG']\n",
    "slg_2018 = bs2018['SLG']\n",
    "def betterYear(slg_2017, slg_2018):\n",
    "    sum_total_2017 = sum(slg_2017)\n",
    "    sum_total_2018 = sum(slg_2018)\n",
    "    if sum_total_2017 > sum_total_2018:\n",
    "        return 2017\n",
    "    else:\n",
    "        return 2018\n",
    "betterYear(slg_2017,slg_2018)\n",
    "    \n"
   ]
  }
 ],
 "metadata": {
  "kernelspec": {
   "display_name": "Python 3",
   "language": "python",
   "name": "python3"
  },
  "language_info": {
   "codemirror_mode": {
    "name": "ipython",
    "version": 3
   },
   "file_extension": ".py",
   "mimetype": "text/x-python",
   "name": "python",
   "nbconvert_exporter": "python",
   "pygments_lexer": "ipython3",
   "version": "3.8.2"
  }
 },
 "nbformat": 4,
 "nbformat_minor": 2
}
